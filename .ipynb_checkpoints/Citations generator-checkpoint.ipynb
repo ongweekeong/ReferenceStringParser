{
 "cells": [
  {
   "cell_type": "code",
   "execution_count": null,
   "metadata": {},
   "outputs": [],
   "source": [
    "!pip install crossrefapi"
   ]
  },
  {
   "cell_type": "code",
   "execution_count": 1,
   "metadata": {},
   "outputs": [],
   "source": [
    "from xml.dom.minidom import parse\n",
    "import xml.dom.minidom\n",
    "import glob\n",
    "\n",
    "filenames = glob.glob('./dataset/metadata/*.xml')\n",
    "doi = set()\n"
   ]
  },
  {
   "cell_type": "code",
   "execution_count": 2,
   "metadata": {},
   "outputs": [
    {
     "name": "stdout",
     "output_type": "stream",
     "text": [
      "3920\n"
     ]
    }
   ],
   "source": [
    "for fp in filenames:\n",
    "    # Open XML document using minidom parser\n",
    "    DOMTree = xml.dom.minidom.parse(fp)\n",
    "    collection = DOMTree.documentElement\n",
    "    books = collection.getElementsByTagName(\"book-id\")\n",
    "    articles = collection.getElementsByTagName(\"article-id\")\n",
    "    \n",
    "    # Ensure that publication IDs are DOI registered before collating together\n",
    "    for book in books:\n",
    "        if book.getAttribute(\"book-id-type\") == \"doi\":\n",
    "            doi.add(book.firstChild.data)\n",
    "    for article in articles:\n",
    "        if article.getAttribute(\"pub-id-type\") == \"doi\":\n",
    "            doi.add(article.firstChild.data)\n",
    "print(len(doi))"
   ]
  },
  {
   "cell_type": "code",
   "execution_count": 3,
   "metadata": {},
   "outputs": [
    {
     "name": "stdout",
     "output_type": "stream",
     "text": [
      "24999\n",
      "3920\n"
     ]
    }
   ],
   "source": [
    "print(len(filenames))\n",
    "print(len(doi))"
   ]
  },
  {
   "cell_type": "code",
   "execution_count": 4,
   "metadata": {},
   "outputs": [
    {
     "name": "stdout",
     "output_type": "stream",
     "text": [
      "1000\n"
     ]
    }
   ],
   "source": [
    "import random\n",
    "samp_doi = random.choices(list(doi), k=1000)\n",
    "print(len(samp_doi))"
   ]
  },
  {
   "cell_type": "code",
   "execution_count": null,
   "metadata": {},
   "outputs": [],
   "source": [
    "from crossref.restful import Works\n",
    "works = Works()\n",
    "data = []\n",
    "count = 0\n",
    "for link in samp_doi:\n",
    "    try:\n",
    "        data.append(works.doi(link))\n",
    "    except:\n",
    "        print('issue with ', link)\n",
    "        \n",
    "    count += 1\n",
    "    print('done with ', count, ' of ', len(samp_doi))"
   ]
  },
  {
   "cell_type": "code",
   "execution_count": null,
   "metadata": {},
   "outputs": [],
   "source": [
    "links = []\n",
    "for i in data:\n",
    "    if i:\n",
    "        links.append(i['URL'])\n",
    "links"
   ]
  },
  {
   "cell_type": "code",
   "execution_count": 7,
   "metadata": {},
   "outputs": [],
   "source": [
    "f = open(\"jstor_doi_unseen1000.txt\", \"w\")\n",
    "for link in links:\n",
    "    f.write(link + \"\\n\")\n",
    "f.close()"
   ]
  },
  {
   "cell_type": "code",
   "execution_count": 8,
   "metadata": {},
   "outputs": [
    {
     "data": {
      "text/plain": [
       "907"
      ]
     },
     "execution_count": 8,
     "metadata": {},
     "output_type": "execute_result"
    }
   ],
   "source": [
    "len(links)"
   ]
  },
  {
   "cell_type": "code",
   "execution_count": null,
   "metadata": {},
   "outputs": [],
   "source": [
    "styles = {'apa', 'harvard3', 'chicago-author-date', 'ieee', 'mla', 'american-chemical-society', 'acm-sig-proceedings'}\n",
    "DATAPATH = './dataset/jstor/unseen1000'\n",
    "for style in styles:\n",
    "    fname = DATAPATH + 'jstor_'+ style\n",
    "    counter = 0\n",
    "    for link in links:\n",
    "        !curl -LH \"Accept: text/x-bibliography; style=$style\" $link >> {fname}.txt\n",
    "        counter += 1\n",
    "        print(style, counter, \"of \", len(links), \" completed\" )"
   ]
  }
 ],
 "metadata": {
  "kernelspec": {
   "display_name": "nlp",
   "language": "python",
   "name": "nlp"
  },
  "language_info": {
   "codemirror_mode": {
    "name": "ipython",
    "version": 3
   },
   "file_extension": ".py",
   "mimetype": "text/x-python",
   "name": "python",
   "nbconvert_exporter": "python",
   "pygments_lexer": "ipython3",
   "version": "3.8.2"
  }
 },
 "nbformat": 4,
 "nbformat_minor": 4
}
