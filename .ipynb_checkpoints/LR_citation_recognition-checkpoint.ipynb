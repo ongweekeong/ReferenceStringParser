{
 "cells": [
  {
   "cell_type": "code",
   "execution_count": 1,
   "metadata": {},
   "outputs": [],
   "source": [
    "import pandas as pd\n",
    "from sklearn.linear_model import LogisticRegression\n",
    "import numpy as np\n",
    "import seaborn\n",
    "import matplotlib.pyplot as plt\n",
    "import re\n",
    "import random"
   ]
  },
  {
   "cell_type": "code",
   "execution_count": 135,
   "metadata": {},
   "outputs": [
    {
     "data": {
      "text/html": [
       "<div>\n",
       "<style scoped>\n",
       "    .dataframe tbody tr th:only-of-type {\n",
       "        vertical-align: middle;\n",
       "    }\n",
       "\n",
       "    .dataframe tbody tr th {\n",
       "        vertical-align: top;\n",
       "    }\n",
       "\n",
       "    .dataframe thead th {\n",
       "        text-align: right;\n",
       "    }\n",
       "</style>\n",
       "<table border=\"1\" class=\"dataframe\">\n",
       "  <thead>\n",
       "    <tr style=\"text-align: right;\">\n",
       "      <th></th>\n",
       "      <th>text</th>\n",
       "      <th>label</th>\n",
       "    </tr>\n",
       "  </thead>\n",
       "  <tbody>\n",
       "    <tr>\n",
       "      <th>0</th>\n",
       "      <td>[1]T., V. and Quinney, D. 1987. An Introductio...</td>\n",
       "      <td>acm-sig-proceedings</td>\n",
       "    </tr>\n",
       "    <tr>\n",
       "      <th>1</th>\n",
       "      <td>[1]Pope, S.T. et al. 1995. Touched by Machine?...</td>\n",
       "      <td>acm-sig-proceedings</td>\n",
       "    </tr>\n",
       "    <tr>\n",
       "      <th>2</th>\n",
       "      <td>[1]Sugihara, M. and Murota, K. 1982. A Note on...</td>\n",
       "      <td>acm-sig-proceedings</td>\n",
       "    </tr>\n",
       "    <tr>\n",
       "      <th>3</th>\n",
       "      <td>[1]Franklin, J.N. et al. 1965. Monte Carlo Met...</td>\n",
       "      <td>acm-sig-proceedings</td>\n",
       "    </tr>\n",
       "    <tr>\n",
       "      <th>4</th>\n",
       "      <td>[1]Kitchen, J. and Denbaly, M. 1987. Commodity...</td>\n",
       "      <td>acm-sig-proceedings</td>\n",
       "    </tr>\n",
       "    <tr>\n",
       "      <th>...</th>\n",
       "      <td>...</td>\n",
       "      <td>...</td>\n",
       "    </tr>\n",
       "    <tr>\n",
       "      <th>50098</th>\n",
       "      <td>Freedman, Marcia, and James G. Scoville. “The ...</td>\n",
       "      <td>mla</td>\n",
       "    </tr>\n",
       "    <tr>\n",
       "      <th>50099</th>\n",
       "      <td>Smoliar, Stephen W., and Deryck Cooke. “The La...</td>\n",
       "      <td>mla</td>\n",
       "    </tr>\n",
       "    <tr>\n",
       "      <th>50100</th>\n",
       "      <td>L., Y. L., and F. M. Arscott. “Periodic Differ...</td>\n",
       "      <td>mla</td>\n",
       "    </tr>\n",
       "    <tr>\n",
       "      <th>50101</th>\n",
       "      <td>Katz, Lawrence F. “Some Recent Developments in...</td>\n",
       "      <td>mla</td>\n",
       "    </tr>\n",
       "    <tr>\n",
       "      <th>50102</th>\n",
       "      <td>Lee, Cheng F. “Abstract--Investment Horizon an...</td>\n",
       "      <td>mla</td>\n",
       "    </tr>\n",
       "  </tbody>\n",
       "</table>\n",
       "<p>50103 rows × 2 columns</p>\n",
       "</div>"
      ],
      "text/plain": [
       "                                                    text                label\n",
       "0      [1]T., V. and Quinney, D. 1987. An Introductio...  acm-sig-proceedings\n",
       "1      [1]Pope, S.T. et al. 1995. Touched by Machine?...  acm-sig-proceedings\n",
       "2      [1]Sugihara, M. and Murota, K. 1982. A Note on...  acm-sig-proceedings\n",
       "3      [1]Franklin, J.N. et al. 1965. Monte Carlo Met...  acm-sig-proceedings\n",
       "4      [1]Kitchen, J. and Denbaly, M. 1987. Commodity...  acm-sig-proceedings\n",
       "...                                                  ...                  ...\n",
       "50098  Freedman, Marcia, and James G. Scoville. “The ...                  mla\n",
       "50099  Smoliar, Stephen W., and Deryck Cooke. “The La...                  mla\n",
       "50100  L., Y. L., and F. M. Arscott. “Periodic Differ...                  mla\n",
       "50101  Katz, Lawrence F. “Some Recent Developments in...                  mla\n",
       "50102  Lee, Cheng F. “Abstract--Investment Horizon an...                  mla\n",
       "\n",
       "[50103 rows x 2 columns]"
      ]
     },
     "execution_count": 135,
     "metadata": {},
     "output_type": "execute_result"
    }
   ],
   "source": [
    "import os\n",
    "import glob\n",
    "\n",
    "path = 'dataset\\\\cstyle_dataset\\\\'\n",
    "all_files = glob.glob(os.path.join(path, \"*.txt\")) \n",
    "\n",
    "frames = []\n",
    "for f in all_files:\n",
    "    file_df = pd.read_csv(f, header=None, index_col=None, sep='\\n', names=['text'], engine='python')\n",
    "    labels = [f.replace(path+'jstor_', '').replace('.txt', '') for x in range(len(file_df))]\n",
    "    file_df['label'] = labels\n",
    "    frames.append(file_df)\n",
    "    \n",
    "df   = pd.concat(frames, axis=0, ignore_index=True)\n",
    "df"
   ]
  },
  {
   "cell_type": "code",
   "execution_count": 136,
   "metadata": {},
   "outputs": [],
   "source": [
    "'''Reduce word tokens to just the type of words/punctuation they are'''\n",
    "# Add more granularity to words and numbers -- months and years\n",
    "# separate short form and full spelling of months for possible differences in citation format\n",
    "\n",
    "\n",
    "def token_transformer(sentence, add_noise=False):\n",
    "    sentence = re.sub(r\"\\b[A-Z]\\b\", 'L', sentence) #uppercase letters\n",
    "    sentence = re.sub(r\"\\b[a-z]\\b\", 'l', sentence) #lowercase letters\n",
    "    if add_noise:\n",
    "        sentence = re.sub(r'\\b(January|February|March|April|May|June|July|August|September|October|November|December)\\b', random.choices(['M',''], weights=[3,1])[0], sentence)\n",
    "        sentence = re.sub(r'\\b(Jan|Feb|Mar|Apr|May|Jun|Jul|Aug|Sep|Oct|Nov|Dec)\\b', random.choices(['m',''], weights=[3,1])[0], sentence)\n",
    "#         x = random.choice(['.', '\\\"', ',', '\\'', '(', ')', '[', ']'])\n",
    "#         print(x)\n",
    "#         sentence = re.sub(r\"[\"+\"{}]\".format(re.escape(x)), random.choices([x, ''], weights=[1,1])[0], sentence)\n",
    "    else:\n",
    "        sentence = re.sub(r'\\b(January|February|March|April|May|June|July|August|September|October|November|December)\\b', 'M', sentence) #random.choices(['M',''], weights=[3,1])[0], sentence)\n",
    "        sentence = re.sub(r'\\b(Jan|Feb|Mar|Apr|May|Jun|Jul|Aug|Sep|Oct|Nov|Dec)\\b', 'm', sentence) #random.choices(['m',''], weights=[3,1])[0], sentence)\n",
    "    sentence = re.sub(r\"\\b[a-z][a-z]+\\b\", 'w', sentence) #lowercase words\n",
    "    sentence = re.sub(r\"\\b[A-Z][a-z]+\\b\", 'W', sentence) #uppercase words\n",
    "    sentence = re.sub(r'\\b(1\\d{3}|20[012]\\d)\\b', 'y', sentence)\n",
    "    sentence = re.sub(r\"\\b[0-9]+\\b\", 'n', sentence) #numbers\n",
    "    return sentence\n",
    "\n",
    "def token_punctuation(sentence, add_noise=False):\n",
    "    if add_noise:\n",
    "        words = sentence.split()\n",
    "        newSentence = []\n",
    "        for word in words: # for every word with punctuation, there is a 10% chance of omitting one type of punctuation.\n",
    "            newSentence.append(word.translate({ord(i):\" {} \".format(random.choices([i, ''], weights=[9,1])[0]) for i in ',.()[]:;\\'\\\"-'}))\n",
    "        sentence = \" \".join(newSentence)\n",
    "        return sentence\n",
    "    \n",
    "    else:\n",
    "        return sentence.translate({ord(i):\" {} \".format(i) for i in ',.()[]:;\\'\\\"-'})\n",
    "    \n",
    "# mutated = token_punctuation(\"This is a ( Test ) N .. [ ] Sentence 3 'T'hree with \\\"a\\\" year 19 and month March.\")\n",
    "# print('no noise: ', \"This is a ( Test ) N .. [ ] Sentence 3 'T'hree with \\\"a\\\" year 19 and month March.\")\n",
    "# print('add noise', token_punctuation(\"This is a ( Test ) N .. [ ] Sentence 3 'T'hree with \\\"a\\\" year 19 and month March.\", True))\n",
    "\n",
    "''' Preprocess text column -- separate symbols with spaces to preserve punctuation as tokens'''\n",
    "def preprocess(df, add_noise=False): # text is a dataframe column\n",
    "    df.text = df.text.apply(token_punctuation, add_noise)\n",
    "    df.text = df.text.apply(token_transformer, add_noise)\n",
    "    return df\n",
    "df = preprocess(df, True) # boolean flag to add noise. For training purposes to be robust against noise."
   ]
  },
  {
   "cell_type": "code",
   "execution_count": 134,
   "metadata": {},
   "outputs": [
    {
     "name": "stdout",
     "output_type": "stream",
     "text": [
      "[1]Pope, S.T. et al. 1995. Touched by Machine?: Composition and Performance in the Digital Age. Computer Music Journal. 19, 3 (1995), 13.\n",
      " [ 1 ] Pope ,  S  T   et al .  1995 .  Touched by Machine? :  Composition and Performance in the Digital Age .  Computer Music Journal .  19 ,  3  ( 1995 )  ,  13 . \n",
      " [ n ] W ,  L  L   w w .  y .  W w W? :  W w W w w W W .  W W W .  n ,  n  ( y )  ,  n . \n",
      "(1) Pope, S. T.; Rahn, J.; Cerana, C.; Katayose, H.; Pecquet, F.; Karpen, R. Computer Music Journal 1995, 19, 13.\n",
      " ( 1 )  Pope   S .  T   ;  Rahn ,  J .  ;  Cerana ,  C .    Katayose ,  H .  ;  Pecquet ,  F .  ;  Karpen ,  R .  Computer Music Journal 1995 ,  19 ,  13  \n",
      " ( n )  W   L .  L   ;  W ,  L .  ;  W ,  L .    W ,  L .  ;  W ,  L .  ;  W ,  L .  W W W y ,  n ,  n  \n",
      "Pope, S. T., Rahn, J., Cerana, C., Katayose, H., Pecquet, F., & Karpen, R. (1995). Touched by Machine?: Composition and Performance in the Digital Age. Computer Music Journal, 19(3), 13. doi:10.2307/3680650\n",
      "Pope ,  S .  T .  ,  Rahn ,  J .  ,  Cerana ,  C .  ,  Katayose ,  H .    Pecquet   F .  ,  & Karpen ,  R .   ( 1995 )  .  Touched by Machine? :  Composition and Performance in the Digital Age .  Computer Music Journal ,  19 ( 3 )    13 .  doi : 10 . 2307/3680650\n",
      "W ,  L .  L .  ,  W ,  L .  ,  W ,  L .  ,  W ,  L .    W   L .  ,  & W ,  L .   ( y )  .  W w W? :  W w W w w W W .  W W W ,  n ( n )    n .  w : n . n/n\n",
      "Pope, Stephen Travis, John Rahn, Carlos Cerana, Haruhiro Katayose, Frank Pecquet, and Richard Karpen. 1995. “Touched by Machine?: Composition and Performance in the Digital Age.” Computer Music Journal 19 (3): 13. doi:10.2307/3680650. http://dx.doi.org/10.2307/3680650.\n",
      "Pope ,  Stephen Travis ,  John Rahn ,  Carlos Cerana   Haruhiro Katayose ,  Frank Pecquet ,  and Richard Karpen .  1995 .  “Touched by Machine? :  Composition and Performance in the Digital Age . ” Computer Music Journal 19  ( 3 )  :  13 .  doi : 10 . 2307/3680650 .  http : //dx . doi . org/10 . 2307/3680650 . \n",
      "W ,  W W ,  W W ,  W W   W W ,  W W ,  w W W .  y .  “W w W? :  W w W w w W W . ” W W W n  ( n )  :  n .  w : n . n/n .  w : //w . w . w/n . n/n . \n",
      "Pope, S.T. et al., 1995. Touched by Machine?: Composition and Performance in the Digital Age. Computer Music Journal, 19(3), p.13. Available at: http://dx.doi.org/10.2307/3680650.\n",
      "Pope   S . T .  et al .  ,  1995 .  Touched by Machine?   Composition and Performance in the Digital Age .  Computer Music Journal ,  19 ( 3 )    p . 13 .  Available at :  http : //dx . doi . org/10 . 2307/3680650 . \n",
      "W   L . L .  w w .  ,  y .  W w W?   W w W w w W W .  W W W ,  n ( n )    l . n .  W w :  w : //w . w . w/n . n/n . \n",
      "[1]S. T. Pope, J. Rahn, C. Cerana, H. Katayose, F. Pecquet, and R. Karpen, “Touched by Machine?: Composition and Performance in the Digital Age,” Computer Music Journal, vol. 19, no. 3, p. 13, 1995.\n",
      " [ 1  S .  T .  Pope ,  J .  Rahn ,  C .  Cerana ,  H .  Katayose ,  F .  Pecquet ,  and R .  Karpen ,  “Touched by Machine? :  Composition and Performance in the Digital Age , ” Computer Music Journal ,  vol .  19 ,  no .  3 ,  p .  13 ,  1995 . \n",
      " [ n  L .  L .  W ,  L .  W ,  L .  W ,  L .  W ,  L .  W ,  w L .  W ,  “W w W? :  W w W w w W W , ” W W W ,  w .  n ,  w .  n ,  l .  n ,  y . \n",
      "Pope, Stephen Travis et al. “Touched by Machine?: Composition and Performance in the Digital Age.” Computer Music Journal 19.3 (1995): 13. Crossref. Web.\n",
      "Pope ,  Stephen Travis et al .  “Touched by Machine? :  Composition and Performance in the Digital Age . ” Computer Music Journal 19 . 3  ( 1995 )  :  13 .  Crossref .  Web . \n",
      "W ,  W W w w .  “W w W? :  W w W w w W W . ” W W W n . n  ( y )  :  n .  W .  W . \n"
     ]
    }
   ],
   "source": [
    "'''Testing the noise adding function. random punctuations and months are omitted'''\n",
    "for frame in frames:\n",
    "    mutator = token_punctuation(frame.iloc[1][0], True)\n",
    "    print(frame.iloc[1][0])\n",
    "    print(mutator)\n",
    "    print(token_transformer(mutator))"
   ]
  },
  {
   "cell_type": "code",
   "execution_count": 137,
   "metadata": {},
   "outputs": [],
   "source": [
    "'''Create dataset with \"unknown\" label by mixing up the tokens'''\n",
    "def token_scrambler(sentence):\n",
    "    ss = sentence.split()\n",
    "    sentence = ' '.join(random.sample(ss, len(ss)))\n",
    "    return sentence\n",
    "\n",
    "'''Returns original dataframe with the new unknown data'''\n",
    "def create_unknown(df):\n",
    "    df_unknown = df.sample(frac=0.25)\n",
    "    df_unknown.label = 'unknown'\n",
    "    df_unknown.text = df_unknown.text.apply(token_scrambler)\n",
    "    frames = [df, df_unknown]\n",
    "    df_extended = pd.concat(frames, axis=0, ignore_index=True)\n",
    "    return df_extended\n",
    "\n",
    "    \n",
    "# print(create_unknown(df))\n",
    "df_extended = create_unknown(df)"
   ]
  },
  {
   "cell_type": "code",
   "execution_count": 138,
   "metadata": {},
   "outputs": [
    {
     "data": {
      "text/html": [
       "<div>\n",
       "<style scoped>\n",
       "    .dataframe tbody tr th:only-of-type {\n",
       "        vertical-align: middle;\n",
       "    }\n",
       "\n",
       "    .dataframe tbody tr th {\n",
       "        vertical-align: top;\n",
       "    }\n",
       "\n",
       "    .dataframe thead th {\n",
       "        text-align: right;\n",
       "    }\n",
       "</style>\n",
       "<table border=\"1\" class=\"dataframe\">\n",
       "  <thead>\n",
       "    <tr style=\"text-align: right;\">\n",
       "      <th></th>\n",
       "      <th>text</th>\n",
       "      <th>label</th>\n",
       "    </tr>\n",
       "  </thead>\n",
       "  <tbody>\n",
       "    <tr>\n",
       "      <th>0</th>\n",
       "      <td>[ n ] L .  ,  L .  w W ,  L .  y .  W W w w W...</td>\n",
       "      <td>acm-sig-proceedings</td>\n",
       "    </tr>\n",
       "    <tr>\n",
       "      <th>1</th>\n",
       "      <td>[ n ] W ,  L . L .  w w .  y .  W w W? :  W w...</td>\n",
       "      <td>acm-sig-proceedings</td>\n",
       "    </tr>\n",
       "    <tr>\n",
       "      <th>2</th>\n",
       "      <td>[ n ] W ,  L .  w W ,  L .  y .  L W w W’l W ...</td>\n",
       "      <td>acm-sig-proceedings</td>\n",
       "    </tr>\n",
       "    <tr>\n",
       "      <th>3</th>\n",
       "      <td>[ n ] W ,  L . L .  w w .  y .  W W W .  W w ...</td>\n",
       "      <td>acm-sig-proceedings</td>\n",
       "    </tr>\n",
       "    <tr>\n",
       "      <th>4</th>\n",
       "      <td>[ n ] W ,  L .  w W ,  L .  y .  W W ,  W W ,...</td>\n",
       "      <td>acm-sig-proceedings</td>\n",
       "    </tr>\n",
       "    <tr>\n",
       "      <th>...</th>\n",
       "      <td>...</td>\n",
       "      <td>...</td>\n",
       "    </tr>\n",
       "    <tr>\n",
       "      <th>62624</th>\n",
       "      <td>= w + l . w , w L ) . n : n/n W n W n n . . y ...</td>\n",
       "      <td>unknown</td>\n",
       "    </tr>\n",
       "    <tr>\n",
       "      <th>62625</th>\n",
       "      <td>, ; . . W L y L W , . . w , n W W L , ( n n ) ...</td>\n",
       "      <td>unknown</td>\n",
       "    </tr>\n",
       "    <tr>\n",
       "      <th>62626</th>\n",
       "      <td>. . L L w . w m W n ” , . W w L W y . . , w “W...</td>\n",
       "      <td>unknown</td>\n",
       "    </tr>\n",
       "    <tr>\n",
       "      <th>62627</th>\n",
       "      <td>, , . n . n ) W ) n : n/n L W L . ( w W , W W ...</td>\n",
       "      <td>unknown</td>\n",
       "    </tr>\n",
       "    <tr>\n",
       "      <th>62628</th>\n",
       "      <td>w l “W W n w L n m , W/n W W W , n y L w n L ....</td>\n",
       "      <td>unknown</td>\n",
       "    </tr>\n",
       "  </tbody>\n",
       "</table>\n",
       "<p>62629 rows × 2 columns</p>\n",
       "</div>"
      ],
      "text/plain": [
       "                                                    text                label\n",
       "0       [ n ] L .  ,  L .  w W ,  L .  y .  W W w w W...  acm-sig-proceedings\n",
       "1       [ n ] W ,  L . L .  w w .  y .  W w W? :  W w...  acm-sig-proceedings\n",
       "2       [ n ] W ,  L .  w W ,  L .  y .  L W w W’l W ...  acm-sig-proceedings\n",
       "3       [ n ] W ,  L . L .  w w .  y .  W W W .  W w ...  acm-sig-proceedings\n",
       "4       [ n ] W ,  L .  w W ,  L .  y .  W W ,  W W ,...  acm-sig-proceedings\n",
       "...                                                  ...                  ...\n",
       "62624  = w + l . w , w L ) . n : n/n W n W n n . . y ...              unknown\n",
       "62625  , ; . . W L y L W , . . w , n W W L , ( n n ) ...              unknown\n",
       "62626  . . L L w . w m W n ” , . W w L W y . . , w “W...              unknown\n",
       "62627  , , . n . n ) W ) n : n/n L W L . ( w W , W W ...              unknown\n",
       "62628  w l “W W n w L n m , W/n W W W , n y L w n L ....              unknown\n",
       "\n",
       "[62629 rows x 2 columns]"
      ]
     },
     "execution_count": 138,
     "metadata": {},
     "output_type": "execute_result"
    }
   ],
   "source": [
    "df_extended"
   ]
  },
  {
   "cell_type": "code",
   "execution_count": 139,
   "metadata": {},
   "outputs": [],
   "source": [
    "''' Create training and test dataset'''\n",
    "from sklearn.model_selection import train_test_split\n",
    "X_train, X_test, y_train, y_test = train_test_split(df_extended.text, df_extended.label, test_size=0.25, random_state=42)"
   ]
  },
  {
   "cell_type": "code",
   "execution_count": 140,
   "metadata": {},
   "outputs": [
    {
     "name": "stdout",
     "output_type": "stream",
     "text": [
      "unknown                      9330\n",
      "mla                          5547\n",
      "chicago-author-date          5409\n",
      "apa                          5403\n",
      "acm-sig-proceedings          5348\n",
      "american-chemical-society    5340\n",
      "harvard3                     5311\n",
      "ieee                         5283\n",
      "Name: label, dtype: int64\n",
      "unknown                      3196\n",
      "ieee                         1849\n",
      "american-chemical-society    1800\n",
      "mla                          1785\n",
      "harvard3                     1781\n",
      "acm-sig-proceedings          1779\n",
      "apa                          1737\n",
      "chicago-author-date          1731\n",
      "Name: label, dtype: int64\n",
      "<class 'pandas.core.series.Series'>\n"
     ]
    }
   ],
   "source": [
    "print(y_train.value_counts())\n",
    "print(y_test.value_counts())\n",
    "print(type(y_test.value_counts()))"
   ]
  },
  {
   "cell_type": "code",
   "execution_count": 141,
   "metadata": {},
   "outputs": [],
   "source": [
    "''' Will try a few approaches to categorising citation styles.\n",
    "    First will be a naive one -- take strings, get tfidf vectors, then feed into LR.\n",
    "    Second will like the one in crossref -- just use the orthographic features.\n",
    "    Open bracket, close bracket, open sqbracket, close sqbracket,\n",
    "    number, capitalised word, word, uppercase letter, \n",
    "    fullstop/dot, comma, colon, semicolon, quotation marks'''\n",
    "from sklearn.feature_extraction.text import TfidfVectorizer\n",
    "from sklearn.pipeline import Pipeline\n",
    "from sklearn.model_selection import GridSearchCV\n",
    "from sklearn.metrics import f1_score, plot_confusion_matrix, confusion_matrix as cm\n",
    "from sklearn.preprocessing import StandardScaler\n",
    "\n",
    "pipeline = Pipeline([\n",
    "    ('features', TfidfVectorizer(lowercase=False, token_pattern=r\"\\S+\")), #r\"(?u)(\\b\\w+\\b|[\\.\\\"(),\\'\\[\\]:;])\")),\n",
    "    ('scaler', StandardScaler(with_mean=False)),\n",
    "    ('classifier', LogisticRegression(class_weight='balanced'))\n",
    "])\n",
    "params = {'features__ngram_range': [(1,3)],\n",
    "    'classifier__C': [0.001],\n",
    "         'classifier__max_iter': [500],}\n",
    "gs = GridSearchCV(pipeline, params, refit=True, cv=2, scoring='f1_macro', verbose=10)"
   ]
  },
  {
   "cell_type": "code",
   "execution_count": 142,
   "metadata": {},
   "outputs": [
    {
     "name": "stdout",
     "output_type": "stream",
     "text": [
      "Fitting 2 folds for each of 1 candidates, totalling 2 fits\n",
      "[CV 1/2; 1/1] START classifier__C=0.001, classifier__max_iter=500, features__ngram_range=(1, 3)\n",
      "[CV 1/2; 1/1] END classifier__C=0.001, classifier__max_iter=500, features__ngram_range=(1, 3); total time=  10.3s\n",
      "[CV 2/2; 1/1] START classifier__C=0.001, classifier__max_iter=500, features__ngram_range=(1, 3)\n",
      "[CV 2/2; 1/1] END classifier__C=0.001, classifier__max_iter=500, features__ngram_range=(1, 3); total time=  10.3s\n",
      "Test F1 score: 0.9961877942771399\n",
      "[[1768    0    8    0    3    0    0    0]\n",
      " [   0 1799    0    0    0    0    0    1]\n",
      " [   3    0 1730    0    3    0    1    0]\n",
      " [   0    0    0 1724    1    0    6    0]\n",
      " [   2    0    6    0 1773    0    0    0]\n",
      " [   2    0    0    0    0 1847    0    0]\n",
      " [   0    0    1    4    0    0 1780    0]\n",
      " [   0    0    0    0    0    0   17 3179]]\n"
     ]
    },
    {
     "data": {
      "image/png": "[encoded data removed]",
      "text/plain": [
       "<Figure size 432x288 with 2 Axes>"
      ]
     },
     "metadata": {
      "needs_background": "light"
     },
     "output_type": "display_data"
    }
   ],
   "source": [
    "gs.fit(X_train, y_train)\n",
    "y_pred = gs.predict(X_test)\n",
    "score = f1_score(y_test, y_pred, average='macro')\n",
    "cMtx = cm(y_test, y_pred)\n",
    "print('Test F1 score: {}'.format(score))\n",
    "print(cMtx)\n",
    "plot_confusion_matrix(gs, X_test, y_test, normalize='true', cmap='Blues')\n",
    "plt.xticks(rotation=90)\n",
    "plt.show()"
   ]
  },
  {
   "cell_type": "code",
   "execution_count": null,
   "metadata": {},
   "outputs": [],
   "source": [
    "pipeline.get_params().keys() # For parameter optimization"
   ]
  },
  {
   "cell_type": "code",
   "execution_count": 143,
   "metadata": {},
   "outputs": [
    {
     "data": {
      "text/plain": [
       "['models\\\\cstyle_LR_augmentedfeatures_3grams_noisyinput.pkl']"
      ]
     },
     "execution_count": 143,
     "metadata": {},
     "output_type": "execute_result"
    }
   ],
   "source": [
    "''' load the saved model '''\n",
    "from joblib import dump\n",
    "dump(gs.best_estimator_, 'models\\\\cstyle_LR_augmentedfeatures_3grams_noisyinput.pkl')\n"
   ]
  },
  {
   "cell_type": "code",
   "execution_count": 144,
   "metadata": {},
   "outputs": [],
   "source": [
    "'''Test with unseen texts from another subject matter'''\n",
    "\n",
    "fpath = 'dataset\\\\jstor\\\\'\n",
    "all_files = glob.glob(os.path.join(fpath, \"unseen1000jstor_*.txt\")) \n",
    "frames = []\n",
    "for f in all_files:\n",
    "    file_df = pd.read_csv(f, header=None, index_col=None, sep='\\n', names=['text'], engine='python')\n",
    "    labels = [f.replace(fpath+'unseen1000jstor_', '').replace('.txt', '') for x in range(len(file_df))]\n",
    "    file_df['label'] = labels\n",
    "    frames.append(file_df)\n",
    "\n",
    "testdf   = pd.concat(frames, axis=0, ignore_index=True)\n",
    "testdf = preprocess(testdf, True) # adding noise to test case. For actual use, might consider setting to false.\n",
    "testdf_extended = create_unknown(testdf)"
   ]
  },
  {
   "cell_type": "code",
   "execution_count": 145,
   "metadata": {},
   "outputs": [
    {
     "name": "stdout",
     "output_type": "stream",
     "text": [
      "Test F1 score: 0.9997835201737671\n",
      "[[ 907    0    0    0    0    0    0    0]\n",
      " [   0  907    0    0    0    0    0    0]\n",
      " [   0    0  907    0    0    0    0    0]\n",
      " [   0    0    0  907    0    0    0    0]\n",
      " [   0    0    0    0  907    0    0    0]\n",
      " [   0    0    0    0    0  907    0    0]\n",
      " [   0    0    0    0    0    0  907    0]\n",
      " [   0    0    2    0    0    0    0 1585]]\n"
     ]
    },
    {
     "data": {
      "image/png": "[encoded data removed]",
      "text/plain": [
       "<Figure size 432x288 with 2 Axes>"
      ]
     },
     "metadata": {
      "needs_background": "light"
     },
     "output_type": "display_data"
    }
   ],
   "source": [
    "from joblib import load\n",
    "\n",
    "# gs = load('models\\\\cstyle_LR_punctuations.pkl')\n",
    "y_unseen = gs.predict(testdf_extended.text)\n",
    "score = f1_score(testdf_extended.label, y_unseen, average='macro')\n",
    "cMtx = cm(testdf_extended.label, y_unseen)\n",
    "print('Test F1 score: {}'.format(score))\n",
    "print(cMtx)\n",
    "plot_confusion_matrix(gs, testdf_extended.text, testdf_extended.label, normalize='true', cmap='Blues')\n",
    "plt.show()"
   ]
  },
  {
   "cell_type": "code",
   "execution_count": 180,
   "metadata": {},
   "outputs": [],
   "source": [
    "from sklearn.preprocessing import LabelEncoder\n",
    "# c_style = df_extended.label.unique()\n",
    "enc = LabelEncoder().fit(df_extended.label)\n",
    "y_transformed = enc.transform(df_extended.label)"
   ]
  },
  {
   "cell_type": "code",
   "execution_count": 182,
   "metadata": {},
   "outputs": [
    {
     "data": {
      "text/plain": [
       "array(['acm-sig-proceedings', 'acm-sig-proceedings',\n",
       "       'acm-sig-proceedings', ..., 'unknown', 'unknown', 'unknown'],\n",
       "      dtype=object)"
      ]
     },
     "execution_count": 182,
     "metadata": {},
     "output_type": "execute_result"
    }
   ],
   "source": [
    "enc.inverse_transform(y_transformed)"
   ]
  }
 ],
 "metadata": {
  "kernelspec": {
   "display_name": "nlp",
   "language": "python",
   "name": "nlp"
  },
  "language_info": {
   "codemirror_mode": {
    "name": "ipython",
    "version": 3
   },
   "file_extension": ".py",
   "mimetype": "text/x-python",
   "name": "python",
   "nbconvert_exporter": "python",
   "pygments_lexer": "ipython3",
   "version": "3.8.2"
  }
 },
 "nbformat": 4,
 "nbformat_minor": 4
}
